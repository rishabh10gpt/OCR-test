{
 "cells": [
  {
   "cell_type": "markdown",
   "metadata": {},
   "source": [
    "## Tesseract-OCR"
   ]
  },
  {
   "cell_type": "code",
   "execution_count": 1,
   "metadata": {},
   "outputs": [],
   "source": [
    "import pytesseract\n",
    "#import argparse\n",
    "import cv2\n",
    "import os\n",
    "from PIL import Image\n",
    "import matplotlib.pyplot as plt"
   ]
  },
  {
   "cell_type": "code",
   "execution_count": 5,
   "metadata": {},
   "outputs": [],
   "source": [
    "img_path = 'ppocr_img/ppocr_img/imgs_en/254.jpg'"
   ]
  },
  {
   "cell_type": "code",
   "execution_count": 8,
   "metadata": {},
   "outputs": [],
   "source": [
    "def create_ocr_image(img_path, preprocess=\"None\"):\n",
    "    image = cv2.imread(img_path)\n",
    "    gray = cv2.cvtColor(image, cv2.COLOR_BGR2GRAY)\n",
    "    # check to see if we should apply thresholding to preprocess the\n",
    "    # image\n",
    "    if preprocess == \"thresh\":\n",
    "        gray = cv2.threshold(gray, 0, 255, cv2.THRESH_BINARY | cv2.THRESH_OTSU)[1]\n",
    "    # make a check to see if median blurring should be done to remove\n",
    "    # noise\n",
    "    elif preprocess == \"blur\":\n",
    "        gray = cv2.medianBlur(gray, 3)\n",
    "    filename = \"/tmp/{}.png\".format(os.getpid())\n",
    "    cv2.imwrite(filename, gray)\n",
    "    text = pytesseract.image_to_string(Image.open(filename))\n",
    "    print(text)"
   ]
  },
  {
   "cell_type": "code",
   "execution_count": 9,
   "metadata": {},
   "outputs": [
    {
     "name": "stdout",
     "output_type": "stream",
     "text": [
      "PHO CAPITAL\n",
      "\n",
      "107 State Street\n",
      "Montpelier Vermont\n",
      "B02 225 6183 eee\n",
      "\n",
      "REG 07-24-2017 06:59 PM\n",
      "\n",
      "045555\n",
      "\n",
      "Giler 2)\n",
      "\n",
      "1 FOOD 1 $7.95\n",
      "1 FOOD sl $3.95\n",
      "1 FOOD 11 $9.50\n",
      "\n",
      "3 No\n",
      "\n",
      " \n",
      "\f",
      "\n"
     ]
    }
   ],
   "source": [
    "create_ocr_image(img_path)"
   ]
  },
  {
   "cell_type": "code",
   "execution_count": 10,
   "metadata": {},
   "outputs": [],
   "source": [
    "def create_ocr_html(img_path,preprocess=\"None\",out_html='output.html'):\n",
    "    image = cv2.imread(img_path)\n",
    "    gray = cv2.cvtColor(image, cv2.COLOR_BGR2GRAY)\n",
    "    # check to see if we should apply thresholding to preprocess the\n",
    "    # image\n",
    "    if preprocess == \"thresh\":\n",
    "        gray = cv2.threshold(gray, 0, 255, cv2.THRESH_BINARY | cv2.THRESH_OTSU)[1]\n",
    "    # make a check to see if median blurring should be done to remove\n",
    "    # noise\n",
    "    elif preprocess == \"blur\":\n",
    "        gray = cv2.medianBlur(gray, 3)\n",
    "    filename = \"/tmp/{}.png\".format(os.getpid())\n",
    "    cv2.imwrite(filename, gray)\n",
    "    text = pytesseract.image_to_string(Image.open(filename))\n",
    "    with open(out_html, \"w\") as e:\n",
    "        e.write(\"<pre>\" + text + \"</pre> <br>\\n\")\n",
    "        print(\"Html created!\")"
   ]
  },
  {
   "cell_type": "code",
   "execution_count": 11,
   "metadata": {},
   "outputs": [
    {
     "name": "stdout",
     "output_type": "stream",
     "text": [
      "Html created!\n"
     ]
    }
   ],
   "source": [
    "create_ocr_html(img_path)"
   ]
  },
  {
   "cell_type": "code",
   "execution_count": 9,
   "metadata": {},
   "outputs": [
    {
     "name": "stdout",
     "output_type": "stream",
     "text": [
      "Help on function image_to_string in module pytesseract.pytesseract:\n",
      "\n",
      "image_to_string(image, lang=None, config='', nice=0, output_type='string', timeout=0)\n",
      "    Returns the result of a Tesseract OCR run on the provided image to string\n",
      "\n"
     ]
    }
   ],
   "source": [
    "help(pytesseract.image_to_string)"
   ]
  },
  {
   "cell_type": "code",
   "execution_count": null,
   "metadata": {},
   "outputs": [],
   "source": []
  }
 ],
 "metadata": {
  "kernelspec": {
   "display_name": "env",
   "language": "python",
   "name": "env"
  },
  "language_info": {
   "codemirror_mode": {
    "name": "ipython",
    "version": 3
   },
   "file_extension": ".py",
   "mimetype": "text/x-python",
   "name": "python",
   "nbconvert_exporter": "python",
   "pygments_lexer": "ipython3",
   "version": "3.8.10"
  }
 },
 "nbformat": 4,
 "nbformat_minor": 4
}
